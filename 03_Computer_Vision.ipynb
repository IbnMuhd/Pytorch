{
  "cells": [
    {
      "cell_type": "markdown",
      "metadata": {
        "id": "view-in-github",
        "colab_type": "text"
      },
      "source": [
        "<a href=\"https://colab.research.google.com/github/zaujaeash/Pytorch/blob/main/03_Computer_Vision.ipynb\" target=\"_parent\"><img src=\"https://colab.research.google.com/assets/colab-badge.svg\" alt=\"Open In Colab\"/></a>"
      ]
    },
    {
      "cell_type": "code",
      "execution_count": null,
      "id": "42c14e3a-a8c4-46b9-a772-6011ddbb3d3c",
      "metadata": {
        "id": "42c14e3a-a8c4-46b9-a772-6011ddbb3d3c"
      },
      "outputs": [],
      "source": [
        "## Imports\n",
        "import torch\n",
        "from torch import nn\n",
        "import torchvision\n",
        "from torchvision import datasets\n",
        "from torchvision import transforms\n",
        "from torchvision.transforms import ToTensor\n",
        "import matplotlib.pyplot as plt"
      ]
    },
    {
      "cell_type": "code",
      "execution_count": null,
      "id": "f7262d1e-3980-4331-9de5-c5ced011cc42",
      "metadata": {
        "id": "f7262d1e-3980-4331-9de5-c5ced011cc42",
        "outputId": "785e46b4-84d1-4baf-e61b-096ab432c5e8"
      },
      "outputs": [
        {
          "name": "stdout",
          "output_type": "stream",
          "text": [
            "2.4.1\n",
            "0.19.1\n"
          ]
        }
      ],
      "source": [
        "print(torch.__version__)\n",
        "print(torchvision.__version__)"
      ]
    },
    {
      "cell_type": "markdown",
      "id": "7acab1b1-b300-4cec-8e56-99fec610ad87",
      "metadata": {
        "id": "7acab1b1-b300-4cec-8e56-99fec610ad87"
      },
      "source": [
        "Getting a Datasets:\n",
        "-> the Dataset we will be using is FashionMNIST which is in-built in torchvision."
      ]
    },
    {
      "cell_type": "code",
      "execution_count": null,
      "id": "638790ca-6bd2-4e1b-b9f7-384e0d317309",
      "metadata": {
        "id": "638790ca-6bd2-4e1b-b9f7-384e0d317309"
      },
      "outputs": [],
      "source": [
        "train_data = datasets.FashionMNIST(root=\"data\", train=True, download=True, transform=ToTensor(), target_transform=None)\n",
        "test_data = datasets.FashionMNIST(root=\"data\", train=False, download=True, transform=ToTensor(), target_transform=None)"
      ]
    },
    {
      "cell_type": "code",
      "execution_count": null,
      "id": "197e259f-7fd8-4959-a005-21ca53bd69ba",
      "metadata": {
        "id": "197e259f-7fd8-4959-a005-21ca53bd69ba",
        "outputId": "65bd9733-e691-4ea8-c339-18724739a586"
      },
      "outputs": [
        {
          "data": {
            "text/plain": [
              "(60000, 10000)"
            ]
          },
          "execution_count": 14,
          "metadata": {},
          "output_type": "execute_result"
        }
      ],
      "source": [
        "len(train_data), len(test_data)"
      ]
    },
    {
      "cell_type": "code",
      "execution_count": null,
      "id": "ea5661c5-5423-45ad-8937-792f0e98d66f",
      "metadata": {
        "id": "ea5661c5-5423-45ad-8937-792f0e98d66f"
      },
      "outputs": [],
      "source": []
    },
    {
      "cell_type": "markdown",
      "source": [
        "# New Section"
      ],
      "metadata": {
        "id": "W-SZCjsKGH_c"
      },
      "id": "W-SZCjsKGH_c"
    },
    {
      "cell_type": "code",
      "execution_count": null,
      "id": "caa437e0-2547-43a6-9df3-60f8a5ce5fed",
      "metadata": {
        "id": "caa437e0-2547-43a6-9df3-60f8a5ce5fed"
      },
      "outputs": [],
      "source": []
    }
  ],
  "metadata": {
    "kernelspec": {
      "display_name": "Python 3",
      "name": "python3"
    },
    "language_info": {
      "codemirror_mode": {
        "name": "ipython",
        "version": 3
      },
      "file_extension": ".py",
      "mimetype": "text/x-python",
      "name": "python",
      "nbconvert_exporter": "python",
      "pygments_lexer": "ipython3",
      "version": "3.11.7"
    },
    "colab": {
      "provenance": [],
      "gpuType": "T4",
      "include_colab_link": true
    },
    "accelerator": "GPU"
  },
  "nbformat": 4,
  "nbformat_minor": 5
}